{
  "nbformat": 4,
  "nbformat_minor": 0,
  "metadata": {
    "colab": {
      "provenance": [],
      "gpuType": "T4"
    },
    "kernelspec": {
      "name": "python3",
      "display_name": "Python 3"
    },
    "language_info": {
      "name": "python"
    },
    "accelerator": "GPU"
  },
  "cells": [
    {
      "cell_type": "code",
      "execution_count": null,
      "metadata": {
        "collapsed": true,
        "id": "Pez0o7PojewE"
      },
      "outputs": [],
      "source": [
        "!pip install ultralytics --upgrade\n"
      ]
    },
    {
      "cell_type": "code",
      "source": [
        "from ultralytics import YOLO\n"
      ],
      "metadata": {
        "collapsed": true,
        "id": "BbABZb0Ijw7l"
      },
      "execution_count": null,
      "outputs": []
    },
    {
      "cell_type": "code",
      "source": [
        "model = YOLO(\"yolov8n-pose.pt\")"
      ],
      "metadata": {
        "collapsed": true,
        "id": "hbH6JubKkpoN"
      },
      "execution_count": null,
      "outputs": []
    },
    {
      "cell_type": "code",
      "source": [
        "from google.colab import files\n",
        "uploaded = files.upload()\n",
        "video_path = list(uploaded.keys())[0]\n",
        "print(\"Video uploaded:\", video_path)\n"
      ],
      "metadata": {
        "collapsed": true,
        "id": "_1mI5cFakv81"
      },
      "execution_count": null,
      "outputs": []
    },
    {
      "cell_type": "code",
      "source": [
        "results = model.predict(\n",
        "    source=video_path,\n",
        "    save=True,\n",
        "    conf=0.5,\n",
        "    stream=False,\n",
        "    show=False\n",
        ")\n"
      ],
      "metadata": {
        "collapsed": true,
        "id": "X72VL_h6nktu"
      },
      "execution_count": null,
      "outputs": []
    }
  ]
}